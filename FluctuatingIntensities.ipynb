{
 "cells": [
  {
   "cell_type": "markdown",
   "metadata": {},
   "source": [
    "# Fluctuating Intensities\n",
    "## Read file from OMERO and analyse fluctuations of pixel intensities\n",
    "Laura Cooper 19/05/2020"
   ]
  },
  {
   "cell_type": "markdown",
   "metadata": {},
   "source": [
    "# 1. Connect to OMERO"
   ]
  },
  {
   "cell_type": "code",
   "execution_count": 236,
   "metadata": {},
   "outputs": [],
   "source": [
    "#Import packages\n",
    "from omero.gateway import BlitzGateway\n",
    "import getpass\n",
    "import numpy as np\n",
    "from scipy import fft, ndimage\n",
    "import matplotlib.pyplot as plt"
   ]
  },
  {
   "cell_type": "code",
   "execution_count": 79,
   "metadata": {},
   "outputs": [
    {
     "name": "stdout",
     "output_type": "stream",
     "text": [
      "Username: u1675160\n",
      "Password: ········\n"
     ]
    },
    {
     "data": {
      "text/plain": [
       "True"
      ]
     },
     "execution_count": 79,
     "metadata": {},
     "output_type": "execute_result"
    }
   ],
   "source": [
    "username = input('Username: ') #Request user to enter OMERO username\n",
    "password = getpass.getpass(prompt='Password: ') #Request user to enter OMERO password\n",
    "conn = BlitzGateway(username, password, host='camdu.warwick.ac.uk', port=4064) #Use details to connect to OMERO server\n",
    "conn.connect() #Returns true when connected"
   ]
  },
  {
   "cell_type": "code",
   "execution_count": 90,
   "metadata": {},
   "outputs": [
    {
     "name": "stdout",
     "output_type": "stream",
     "text": [
      "Member of:\n",
      "   ID: system  Name: 0\n",
      "   ID: default  Name: 3\n",
      "   ID: camdu  Name: 153\n",
      "   ID: lattice  Name: 453\n",
      "   ID: Royle_Cooper  Name: 1003\n",
      "Current group:  Royle_Cooper\n",
      "   Group owners:\n",
      "     ID: 3 mlsmaf Name: Stephen Royle\n",
      "   Group members:\n",
      "     ID: 3052 u1675160 Name: Laura Cooper\n"
     ]
    }
   ],
   "source": [
    "print(\"Member of:\")\n",
    "for g in conn.getGroupsMemberOf():\n",
    "    print(\"   ID:\", g.getName(), \" Name:\", g.getId())\n",
    "group = conn.getGroupFromContext()\n",
    "print(\"Current group: \", group.getName())\n",
    "# List the group owners and other members\n",
    "owners, members = group.groupSummary()\n",
    "print(\"   Group owners:\")\n",
    "for o in owners:\n",
    "    print(\"     ID: %s %s Name: %s\" % (\n",
    "        o.getId(), o.getOmeName(), o.getFullName()))\n",
    "    print(\"   Group members:\")\n",
    "for m in members:\n",
    "    print(\"     ID: %s %s Name: %s\" % (\n",
    "        m.getId(), m.getOmeName(), m.getFullName()))"
   ]
  },
  {
   "cell_type": "code",
   "execution_count": 121,
   "metadata": {},
   "outputs": [],
   "source": [
    "def print_obj(obj, indent=0):\n",
    "    \"\"\"\n",
    "    Helper method to display info about OMERO objects.\n",
    "    Not all objects will have a \"name\" or owner field.\n",
    "    \"\"\"\n",
    "    print(\"\"\"%s%s:%s  Name:\"%s\" (owner=%s)\"\"\" % (\n",
    "        \" \" * indent,\n",
    "        obj.OMERO_CLASS,\n",
    "        obj.getId(),\n",
    "        obj.getName(),\n",
    "        obj.getOwnerOmeName()\n",
    "    ))"
   ]
  },
  {
   "cell_type": "code",
   "execution_count": 127,
   "metadata": {},
   "outputs": [
    {
     "name": "stdout",
     "output_type": "stream",
     "text": [
      "\n",
      "List Datasets: \n",
      " ==================================================\n",
      "  Dataset:8202  Name:\"ER\" (owner=mlsmaf)\n",
      "    Image:245956  Name:\"200114HeLa_GFP-Rab15 10-1.tif\" (owner=mlsmaf)\n",
      "    Image:245951  Name:\"200114HeLa_GFP-Rab15 10-2.tif\" (owner=mlsmaf)\n",
      "    Image:245961  Name:\"200114HeLa_GFP-Rab15 10-3.tif\" (owner=mlsmaf)\n",
      "    Image:245953  Name:\"200114HeLa_GFP-Rab15 10-4.tif\" (owner=mlsmaf)\n",
      "    Image:245957  Name:\"200114HeLa_GFP-Rab15 8-1.tif\" (owner=mlsmaf)\n",
      "    Image:245955  Name:\"200114HeLa_GFP-Rab15 8-2.tif\" (owner=mlsmaf)\n",
      "    Image:245962  Name:\"200114HeLa_GFP-Rab15 8-3.tif\" (owner=mlsmaf)\n",
      "    Image:245954  Name:\"200114HeLa_GFP-Rab15 8-4.tif\" (owner=mlsmaf)\n",
      "    Image:245949  Name:\"200114HeLa_GFP-Rab17 3-1.tif\" (owner=mlsmaf)\n",
      "    Image:245948  Name:\"200114HeLa_GFP-Rab17 3-2.tif\" (owner=mlsmaf)\n",
      "    Image:245959  Name:\"200114HeLa_GFP-Rab17 3-3.tif\" (owner=mlsmaf)\n",
      "    Image:245947  Name:\"200114HeLa_GFP-Rab17 3-4.tif\" (owner=mlsmaf)\n",
      "    Image:245958  Name:\"200114HeLa_GFP-Rab17 7-1.tif\" (owner=mlsmaf)\n",
      "    Image:245950  Name:\"200114HeLa_GFP-Rab17 7-2.tif\" (owner=mlsmaf)\n",
      "    Image:245960  Name:\"200114HeLa_GFP-Rab17 7-3.tif\" (owner=mlsmaf)\n",
      "    Image:245952  Name:\"200114HeLa_GFP-Rab17 7-4.tif\" (owner=mlsmaf)\n",
      "  Dataset:8203  Name:\"GFP\" (owner=mlsmaf)\n",
      "    Image:245969  Name:\"200114HeLa_GFP 2-1.tif\" (owner=mlsmaf)\n",
      "    Image:245976  Name:\"200114HeLa_GFP 2-2.tif\" (owner=mlsmaf)\n",
      "    Image:245970  Name:\"200114HeLa_GFP 2-3.tif\" (owner=mlsmaf)\n",
      "    Image:245972  Name:\"200114HeLa_GFP 2-4.tif\" (owner=mlsmaf)\n",
      "    Image:245973  Name:\"200114HeLa_GFP 3-1.tif\" (owner=mlsmaf)\n",
      "    Image:245965  Name:\"200114HeLa_GFP 3-2.tif\" (owner=mlsmaf)\n",
      "    Image:245968  Name:\"200114HeLa_GFP 3-3.tif\" (owner=mlsmaf)\n",
      "    Image:245974  Name:\"200114HeLa_GFP 3-4.tif\" (owner=mlsmaf)\n",
      "    Image:245977  Name:\"200114HeLa_GFP 4-1.tif\" (owner=mlsmaf)\n",
      "    Image:245964  Name:\"200114HeLa_GFP 4-2.tif\" (owner=mlsmaf)\n",
      "    Image:245978  Name:\"200114HeLa_GFP 4-3.tif\" (owner=mlsmaf)\n",
      "    Image:245967  Name:\"200114HeLa_GFP 4-4.tif\" (owner=mlsmaf)\n",
      "    Image:245975  Name:\"200114HeLa_GFP 5-1.tif\" (owner=mlsmaf)\n",
      "    Image:245966  Name:\"200114HeLa_GFP 5-2.tif\" (owner=mlsmaf)\n",
      "    Image:245971  Name:\"200114HeLa_GFP 5-3.tif\" (owner=mlsmaf)\n",
      "    Image:245963  Name:\"200114HeLa_GFP 5-4.tif\" (owner=mlsmaf)\n",
      "  Dataset:8204  Name:\"INVs\" (owner=mlsmaf)\n",
      "    Image:245985  Name:\"150120HeLa_GFP-Rab30 1-1.tif\" (owner=mlsmaf)\n",
      "    Image:245993  Name:\"150120HeLa_GFP-Rab30 1-2.tif\" (owner=mlsmaf)\n",
      "    Image:245983  Name:\"150120HeLa_GFP-Rab30 1-3.tif\" (owner=mlsmaf)\n",
      "    Image:245991  Name:\"150120HeLa_GFP-Rab30 1-4.tif\" (owner=mlsmaf)\n",
      "    Image:245981  Name:\"150120HeLa_GFP-Rab30 2-1.tif\" (owner=mlsmaf)\n",
      "    Image:245988  Name:\"150120HeLa_GFP-Rab30 2-2.tif\" (owner=mlsmaf)\n",
      "    Image:245979  Name:\"150120HeLa_GFP-Rab30 2-3.tif\" (owner=mlsmaf)\n",
      "    Image:245989  Name:\"150120HeLa_GFP-Rab30 2-4.tif\" (owner=mlsmaf)\n",
      "    Image:245992  Name:\"150120HeLa_GFP-Rab30 3-1.tif\" (owner=mlsmaf)\n",
      "    Image:245984  Name:\"150120HeLa_GFP-Rab30 3-2.tif\" (owner=mlsmaf)\n",
      "    Image:245994  Name:\"150120HeLa_GFP-Rab30 3-3.tif\" (owner=mlsmaf)\n",
      "    Image:245986  Name:\"150120HeLa_GFP-Rab30 3-4.tif\" (owner=mlsmaf)\n",
      "    Image:245987  Name:\"150120HeLa_GFP-Rab30 4-1.tif\" (owner=mlsmaf)\n",
      "    Image:245980  Name:\"150120HeLa_GFP-Rab30 4-2.tif\" (owner=mlsmaf)\n",
      "    Image:245990  Name:\"150120HeLa_GFP-Rab30 4-3.tif\" (owner=mlsmaf)\n",
      "    Image:245982  Name:\"150120HeLa_GFP-Rab30 4-4.tif\" (owner=mlsmaf)\n",
      "  Dataset:8205  Name:\"mitochondria\" (owner=mlsmaf)\n",
      "    Image:245997  Name:\"200114HeLa_GFP-Rab17 1-1.tif\" (owner=mlsmaf)\n",
      "    Image:246005  Name:\"200114HeLa_GFP-Rab17 1-2.tif\" (owner=mlsmaf)\n",
      "    Image:245996  Name:\"200114HeLa_GFP-Rab17 1-3.tif\" (owner=mlsmaf)\n",
      "    Image:246007  Name:\"200114HeLa_GFP-Rab17 1-4.tif\" (owner=mlsmaf)\n",
      "    Image:246000  Name:\"200114HeLa_GFP-Rab17 7-1.tif\" (owner=mlsmaf)\n",
      "    Image:246003  Name:\"200114HeLa_GFP-Rab17 7-2.tif\" (owner=mlsmaf)\n",
      "    Image:245995  Name:\"200114HeLa_GFP-Rab17 7-3.tif\" (owner=mlsmaf)\n",
      "    Image:246010  Name:\"200114HeLa_GFP-Rab17 7-4.tif\" (owner=mlsmaf)\n",
      "    Image:246004  Name:\"200114HeLa_GFP-Rab17 9-1.tif\" (owner=mlsmaf)\n",
      "    Image:246002  Name:\"200114HeLa_GFP-Rab17 9-2.tif\" (owner=mlsmaf)\n",
      "    Image:246009  Name:\"200114HeLa_GFP-Rab17 9-3.tif\" (owner=mlsmaf)\n",
      "    Image:246001  Name:\"200114HeLa_GFP-Rab17 9-4.tif\" (owner=mlsmaf)\n",
      "    Image:245999  Name:\"200123HeLa_GFP-Rab39 4-1.tif\" (owner=mlsmaf)\n",
      "    Image:246006  Name:\"200123HeLa_GFP-Rab39 4-2.tif\" (owner=mlsmaf)\n",
      "    Image:245998  Name:\"200123HeLa_GFP-Rab39 4-3.tif\" (owner=mlsmaf)\n",
      "    Image:246008  Name:\"200123HeLa_GFP-Rab39 4-4.tif\" (owner=mlsmaf)\n",
      "  Dataset:8206  Name:\"plasma membrane\" (owner=mlsmaf)\n",
      "    Image:246012  Name:\"150120HeLa_GFP-Rab35 1-1.tif\" (owner=mlsmaf)\n",
      "    Image:246019  Name:\"150120HeLa_GFP-Rab35 1-2.tif\" (owner=mlsmaf)\n",
      "    Image:246014  Name:\"150120HeLa_GFP-Rab35 1-3.tif\" (owner=mlsmaf)\n",
      "    Image:246024  Name:\"150120HeLa_GFP-Rab35 1-4.tif\" (owner=mlsmaf)\n",
      "    Image:246023  Name:\"200114HeLa_GFP-Rab13 1-1.tif\" (owner=mlsmaf)\n",
      "    Image:246017  Name:\"200114HeLa_GFP-Rab13 1-2.tif\" (owner=mlsmaf)\n",
      "    Image:246013  Name:\"200114HeLa_GFP-Rab13 1-3.tif\" (owner=mlsmaf)\n",
      "    Image:246020  Name:\"200114HeLa_GFP-Rab13 1-4.tif\" (owner=mlsmaf)\n",
      "    Image:246022  Name:\"200114HeLa_GFP-Rab13 2-1.tif\" (owner=mlsmaf)\n",
      "    Image:246015  Name:\"200114HeLa_GFP-Rab13 2-2.tif\" (owner=mlsmaf)\n",
      "    Image:246026  Name:\"200114HeLa_GFP-Rab13 2-3.tif\" (owner=mlsmaf)\n",
      "    Image:246016  Name:\"200114HeLa_GFP-Rab13 2-4.tif\" (owner=mlsmaf)\n",
      "    Image:246018  Name:\"200114HeLa_GFP-Rab13 3-1.tif\" (owner=mlsmaf)\n",
      "    Image:246011  Name:\"200114HeLa_GFP-Rab13 3-2.tif\" (owner=mlsmaf)\n",
      "    Image:246021  Name:\"200114HeLa_GFP-Rab13 3-3.tif\" (owner=mlsmaf)\n",
      "    Image:246025  Name:\"200114HeLa_GFP-Rab13 3-4.tif\" (owner=mlsmaf)\n",
      "  Dataset:8207  Name:\"recycling endosomes\" (owner=mlsmaf)\n",
      "    Image:246028  Name:\"200114HeLa_GFP-Rab11 1-1.tif\" (owner=mlsmaf)\n",
      "    Image:246033  Name:\"200114HeLa_GFP-Rab11 1-2.tif\" (owner=mlsmaf)\n",
      "    Image:246041  Name:\"200114HeLa_GFP-Rab11 1-3.tif\" (owner=mlsmaf)\n",
      "    Image:246032  Name:\"200114HeLa_GFP-Rab11 1-4.tif\" (owner=mlsmaf)\n",
      "    Image:246027  Name:\"200114HeLa_GFP-Rab11 2-1.tif\" (owner=mlsmaf)\n",
      "    Image:246036  Name:\"200114HeLa_GFP-Rab11 2-2.tif\" (owner=mlsmaf)\n",
      "    Image:246042  Name:\"200114HeLa_GFP-Rab11 2-3.tif\" (owner=mlsmaf)\n",
      "    Image:246035  Name:\"200114HeLa_GFP-Rab11 2-4.tif\" (owner=mlsmaf)\n",
      "    Image:246034  Name:\"200114HeLa_GFP-Rab11 3-1.tif\" (owner=mlsmaf)\n",
      "    Image:246040  Name:\"200114HeLa_GFP-Rab11 3-2.tif\" (owner=mlsmaf)\n",
      "    Image:246030  Name:\"200114HeLa_GFP-Rab11 3-3.tif\" (owner=mlsmaf)\n",
      "    Image:246038  Name:\"200114HeLa_GFP-Rab11 3-4.tif\" (owner=mlsmaf)\n",
      "    Image:246039  Name:\"200114HeLa_GFP-Rab11 5-1.tif\" (owner=mlsmaf)\n",
      "    Image:246029  Name:\"200114HeLa_GFP-Rab11 5-2.tif\" (owner=mlsmaf)\n",
      "    Image:246037  Name:\"200114HeLa_GFP-Rab11 5-3.tif\" (owner=mlsmaf)\n",
      "    Image:246031  Name:\"200114HeLa_GFP-Rab11 5-4.tif\" (owner=mlsmaf)\n",
      "\n",
      "List Images: \n",
      " ==================================================\n",
      "Dataset:8202  Name:\"ER\" (owner=mlsmaf)\n",
      "Dataset:8203  Name:\"GFP\" (owner=mlsmaf)\n",
      "Dataset:8204  Name:\"INVs\" (owner=mlsmaf)\n",
      "Dataset:8205  Name:\"mitochondria\" (owner=mlsmaf)\n",
      "Dataset:8206  Name:\"plasma membrane\" (owner=mlsmaf)\n",
      "Dataset:8207  Name:\"recycling endosomes\" (owner=mlsmaf)\n"
     ]
    }
   ],
   "source": [
    "print(\"\\nList Datasets: \\n\", \"=\" * 50)\n",
    "datasets = conn.getObjects(\"Dataset\", opts={'owner': 3})\n",
    "for dataset in datasets:\n",
    "    print_obj(dataset, 2)\n",
    "    for image in dataset.listChildren():\n",
    "        print_obj(image, 4)"
   ]
  },
  {
   "cell_type": "code",
   "execution_count": 141,
   "metadata": {},
   "outputs": [
    {
     "name": "stdout",
     "output_type": "stream",
     "text": [
      " Name: 200114HeLa_GFP-Rab15 10-1.tif\n",
      " X: 20\n",
      " Y: 20\n",
      " Z: 30\n",
      " C: 1\n",
      " T: 1\n"
     ]
    }
   ],
   "source": [
    "image = conn.getObject(\"Image\", 245956)\n",
    "print(\" Name:\", image.getName())\n",
    "print(\" X:\", image.getSizeX())\n",
    "print(\" Y:\", image.getSizeY())\n",
    "print(\" Z:\", image.getSizeZ())\n",
    "print(\" C:\", image.getSizeC())\n",
    "print(\" T:\", image.getSizeT())"
   ]
  },
  {
   "cell_type": "code",
   "execution_count": 130,
   "metadata": {},
   "outputs": [],
   "source": [
    "def get_z_stack(img, c=0, t=0):\n",
    "    zct_list = [(z, c, t) for z in range(img.getSizeZ())]\n",
    "    pixels = image.getPrimaryPixels()\n",
    "    return np.array(list(pixels.getPlanes(zct_list)))"
   ]
  },
  {
   "cell_type": "code",
   "execution_count": 147,
   "metadata": {},
   "outputs": [
    {
     "data": {
      "image/png": "[encoded data removed]",
      "text/plain": [
       "<Figure size 432x288 with 1 Axes>"
      ]
     },
     "metadata": {
      "needs_background": "light"
     },
     "output_type": "display_data"
    }
   ],
   "source": [
    "f = get_z_stack(image)\n",
    "plt.imshow(f[0,:,:])\n",
    "plt.show()"
   ]
  },
  {
   "cell_type": "code",
   "execution_count": 146,
   "metadata": {},
   "outputs": [
    {
     "data": {
      "text/plain": [
       "(30, 20, 20)"
      ]
     },
     "execution_count": 146,
     "metadata": {},
     "output_type": "execute_result"
    }
   ],
   "source": [
    "np.shape(f)"
   ]
  },
  {
   "cell_type": "code",
   "execution_count": 152,
   "metadata": {},
   "outputs": [],
   "source": [
    "# mean velocity\n",
    "u_bar=np.mean(f, axis = 0);\n",
    "# turbulent fluctuations\n",
    "u_fluct=np.subtract(f,u_bar)"
   ]
  },
  {
   "cell_type": "code",
   "execution_count": 155,
   "metadata": {},
   "outputs": [
    {
     "name": "stdout",
     "output_type": "stream",
     "text": [
      "(30, 20, 20)\n"
     ]
    },
    {
     "data": {
      "image/png": "[encoded data removed]",
      "text/plain": [
       "<Figure size 432x288 with 1 Axes>"
      ]
     },
     "metadata": {
      "needs_background": "light"
     },
     "output_type": "display_data"
    }
   ],
   "source": [
    "#Turblence Strength\n",
    "u_rms="
   ]
  },
  {
   "cell_type": "code",
   "execution_count": 181,
   "metadata": {},
   "outputs": [],
   "source": [
    "v = f[:,10,10]\n",
    "t = range(0,30)"
   ]
  },
  {
   "cell_type": "code",
   "execution_count": 186,
   "metadata": {},
   "outputs": [
    {
     "data": {
      "image/png": "[encoded data removed]",
      "text/plain": [
       "<Figure size 432x288 with 1 Axes>"
      ]
     },
     "metadata": {
      "needs_background": "light"
     },
     "output_type": "display_data"
    }
   ],
   "source": [
    "plt.plot(t,v)\n",
    "plt.plot(t,np.mean(v)*np.ones(30))\n",
    "plt.plot(t,(np.std(v_fluct)+np.mean(v))*np.ones(30))\n",
    "plt.plot(t,(-np.std(v_fluct)+np.mean(v))*np.ones(30))\n",
    "plt.show()"
   ]
  },
  {
   "cell_type": "code",
   "execution_count": 173,
   "metadata": {},
   "outputs": [
    {
     "data": {
      "text/plain": [
       "[<matplotlib.lines.Line2D at 0x16806e665f8>]"
      ]
     },
     "execution_count": 173,
     "metadata": {},
     "output_type": "execute_result"
    },
    {
     "data": {
      "image/png": "[encoded data removed]",
      "text/plain": [
       "<Figure size 432x288 with 1 Axes>"
      ]
     },
     "metadata": {
      "needs_background": "light"
     },
     "output_type": "display_data"
    }
   ],
   "source": [
    "v_fluct=v-np.mean(v)\n",
    "plt.plot(v_fluct)"
   ]
  },
  {
   "cell_type": "code",
   "execution_count": 183,
   "metadata": {},
   "outputs": [
    {
     "data": {
      "text/plain": [
       "30.203090349609372"
      ]
     },
     "execution_count": 183,
     "metadata": {},
     "output_type": "execute_result"
    }
   ],
   "source": [
    "#Turbulence strength\n",
    "np.std(v_fluct)"
   ]
  },
  {
   "cell_type": "code",
   "execution_count": 187,
   "metadata": {},
   "outputs": [
    {
     "data": {
      "text/plain": [
       "0.1111224810508071"
      ]
     },
     "execution_count": 187,
     "metadata": {},
     "output_type": "execute_result"
    }
   ],
   "source": [
    "#Turbulence Intensity\n",
    "np.std(v_fluct)/np.mean(v)"
   ]
  },
  {
   "cell_type": "code",
   "execution_count": 216,
   "metadata": {},
   "outputs": [
    {
     "data": {
      "text/plain": [
       "<function matplotlib.pyplot.show(*args, **kw)>"
      ]
     },
     "execution_count": 216,
     "metadata": {},
     "output_type": "execute_result"
    },
    {
     "data": {
      "image/png": "[encoded data removed]",
      "text/plain": [
       "<Figure size 432x288 with 1 Axes>"
      ]
     },
     "metadata": {
      "needs_background": "light"
     },
     "output_type": "display_data"
    }
   ],
   "source": [
    "Y=fft.fft(v_fluct); # Fourier transform of function\n",
    "P2=abs(Y/30) #2 sided spectrum\n",
    "P1=P2[0:15]\n",
    "plt.plot(P1)\n",
    "plt.show"
   ]
  },
  {
   "cell_type": "code",
   "execution_count": 334,
   "metadata": {},
   "outputs": [
    {
     "data": {
      "text/plain": [
       "<function matplotlib.pyplot.show(*args, **kw)>"
      ]
     },
     "execution_count": 334,
     "metadata": {},
     "output_type": "execute_result"
    },
    {
     "data": {
      "image/png": "[encoded data removed]",
      "text/plain": [
       "<Figure size 432x288 with 1 Axes>"
      ]
     },
     "metadata": {
      "needs_background": "light"
     },
     "output_type": "display_data"
    }
   ],
   "source": [
    "# Create a signal with some noise\n",
    "#np.random.seed(10)\n",
    "Fs=1000; #Sample freqency\n",
    "L=1500 # Length of signal\n",
    "T = 1/Fs; #Sampling period   \n",
    "t=np.arange(0,L,1)*T # Time Vector\n",
    "Hz1=20; #Signal 1\\n\",\n",
    "Hz2=80; #Signal 2\\n\",\n",
    "F=np.sin(2*np.pi*Hz1*t)+np.sin(2*np.pi*Hz2*t)+(np.random.randint(len(t)))/10000\n",
    "plt.plot(1000*t,F)\n",
    "plt.show"
   ]
  },
  {
   "cell_type": "code",
   "execution_count": 335,
   "metadata": {},
   "outputs": [
    {
     "data": {
      "text/plain": [
       "[<matplotlib.lines.Line2D at 0x16808769ba8>]"
      ]
     },
     "execution_count": 335,
     "metadata": {},
     "output_type": "execute_result"
    },
    {
     "data": {
      "image/png": "[encoded data removed]",
      "text/plain": [
       "<Figure size 432x288 with 1 Axes>"
      ]
     },
     "metadata": {
      "needs_background": "light"
     },
     "output_type": "display_data"
    }
   ],
   "source": [
    "Y=fft.fft(F); # Fourier transform of function\\n\",\n",
    "P2=abs(Y/L) #2 sided spectrum\\n\",\n",
    "P1=P2[0:int(L/2)]; #1 sided spectrum\\n\",\n",
    "P1[1:len(P1)-1]=2*P1[1:len(P1)-1];\n",
    "fd=Fs*np.arange(0,L/2,1)/L; #Freqency fomain\\n\",\n",
    "plt.plot(fd,P1)"
   ]
  },
  {
   "cell_type": "code",
   "execution_count": 238,
   "metadata": {},
   "outputs": [
    {
     "data": {
      "text/plain": [
       "array([ 0.        , -0.64627349,  0.98635019, -0.85910577,  0.32482713,\n",
       "        0.36335079, -0.87937737,  0.97876529, -0.61442572, -0.04102153,\n",
       "        0.67703327, -0.9922746 ,  0.83738789, -0.28575664, -0.40126275,\n",
       "        0.89816856, -0.96953266,  0.58154359,  0.08197401, -0.70665328,\n",
       "        0.99652853, -0.81426028,  0.24620508,  0.4384992 , -0.91544771,\n",
       "        0.95866785, -0.54768244, -0.12278848,  0.73508366, -0.99910484,\n",
       "        0.78976189, -0.20623904, -0.47499745,  0.93118572, -0.94618915,\n",
       "        0.51289928,  0.16339624, -0.76227654,  0.99999918, -0.76393395,\n",
       "        0.1659258 ,  0.51069605, -0.94535611,  0.93211756, -0.47725267,\n",
       "       -0.20372893,  0.78818616, -0.99921004,  0.73681996, -0.12533323])"
      ]
     },
     "execution_count": 238,
     "metadata": {},
     "output_type": "execute_result"
    }
   ],
   "source": [
    "np.sin(2*np.pi*Hz1*t)"
   ]
  },
  {
   "cell_type": "code",
   "execution_count": 310,
   "metadata": {},
   "outputs": [
    {
     "name": "stdout",
     "output_type": "stream",
     "text": [
      "1500\n"
     ]
    },
    {
     "data": {
      "text/plain": [
       "array([   0,    1,    2, ..., 1497, 1498, 1499])"
      ]
     },
     "execution_count": 310,
     "metadata": {},
     "output_type": "execute_result"
    }
   ],
   "source": [
    "print(L)\n",
    "np.arange(0,L,1)"
   ]
  },
  {
   "cell_type": "code",
   "execution_count": null,
   "metadata": {},
   "outputs": [],
   "source": []
  }
 ],
 "metadata": {
  "kernelspec": {
   "display_name": "Python 3",
   "language": "python",
   "name": "python3"
  },
  "language_info": {
   "codemirror_mode": {
    "name": "ipython",
    "version": 3
   },
   "file_extension": ".py",
   "mimetype": "text/x-python",
   "name": "python",
   "nbconvert_exporter": "python",
   "pygments_lexer": "ipython3",
   "version": "3.6.10"
  }
 },
 "nbformat": 4,
 "nbformat_minor": 4
}
