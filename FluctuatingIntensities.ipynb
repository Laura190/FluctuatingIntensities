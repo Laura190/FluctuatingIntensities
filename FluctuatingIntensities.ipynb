{
 "cells": [
  {
   "cell_type": "markdown",
   "metadata": {},
   "source": [
    "# Fluctuating Intensities From ROIs\n",
    "## Read ROI regions from OMERO and analyse fluctuations of pixel intensities\n",
    "### Laura Cooper 03/08/2020"
   ]
  },
  {
   "cell_type": "markdown",
   "metadata": {},
   "source": [
    "## Prerequisites\n",
    "This notebook assumes the default group for the user in OMERO is roylelab and that you are connected to the VPN.\n",
    "### Import Packages"
   ]
  },
  {
   "cell_type": "code",
   "execution_count": 4,
   "metadata": {},
   "outputs": [],
   "source": [
    "from omero.gateway import BlitzGateway\n",
    "import getpass\n",
    "import numpy as np\n",
    "from scipy import fft, ndimage\n",
    "import matplotlib.pyplot as plt\n",
    "import csv\n",
    "import omero\n",
    "import omero.model"
   ]
  },
  {
   "cell_type": "markdown",
   "metadata": {},
   "source": [
    "### Define functions\n",
    "#### Get details of ROIs from OMERO"
   ]
  },
  {
   "cell_type": "code",
   "execution_count": 7,
   "metadata": {},
   "outputs": [],
   "source": [
    "# Adapted from Slide_Scanner_Images_From_ROIs.py\n",
    "# https://github.com/will-moore/omero_scripts/blob/master/omero/util_scripts/Slide_Scanner_Images_From_ROIs.py\n",
    "def getImageAndRectangles(conn, imageId):\n",
    "    \"\"\"\n",
    "    Returns a list of (x, y, width, height, zStart, zStop, tStart, tStop)\n",
    "    of each rectangle ROI in the image\n",
    "    Input: conn       OMERO BlitzGateway connection\n",
    "           imageID    OMERO ID of image\n",
    "    \"\"\"\n",
    "\n",
    "    rois = []\n",
    "    roi_ids = []\n",
    "\n",
    "    roiService = conn.getRoiService()\n",
    "    result = roiService.findByImage(imageId, None)\n",
    "    image = conn.getObject(\"Image\", imageId)\n",
    "    for roi in result.rois:\n",
    "        zStart = None\n",
    "        zEnd = 0\n",
    "        tStart = None\n",
    "        tEnd = 0\n",
    "        x = None\n",
    "        for shape in roi.copyShapes():\n",
    "            if type(shape) == omero.model.RectangleI:\n",
    "                #For all z and all time\n",
    "                zStart=0\n",
    "                zEnd=image.getSizeZ()\n",
    "                tStart=0\n",
    "                tEnd=image.getSizeT()\n",
    "                if x is None:   # get x, y, width, height for first rect only\n",
    "                    x = int(shape.getX().getValue())\n",
    "                    y = int(shape.getY().getValue())\n",
    "                    width = int(shape.getWidth().getValue())\n",
    "                    height = int(shape.getHeight().getValue())\n",
    "        # if we have found any rectangles at all...\n",
    "        if zStart is not None:\n",
    "            rois.append((x, y, width, height, zStart, zEnd, tStart, tEnd))\n",
    "            roi_ids.append(roi.getId().getValue())\n",
    "\n",
    "    return rois, image, roi_ids"
   ]
  },
  {
   "cell_type": "markdown",
   "metadata": {},
   "source": [
    "#### Convert image stack to np.array, only reading data from within ROI"
   ]
  },
  {
   "cell_type": "code",
   "execution_count": 8,
   "metadata": {},
   "outputs": [],
   "source": [
    "def get_z_stack(image, roi):\n",
    "    \"\"\"\n",
    "    Convert OMERO image object to numpy array\n",
    "    Input: img  OMERO image object\n",
    "           c    number of colour channls\n",
    "           t    number of time steps\n",
    "    \"\"\"\n",
    "    z, t, c = 0, 0, 0                     # first plane of the image\n",
    "    pixels = image.getPrimaryPixels() # pixel wrapper of image\n",
    "    plane=np.zeros([roi[7],roi[3],roi[2]]) # Preallocate numpy array\n",
    "    for T in range(roi[7]):                             # For the first three time steps, get a 2D numpy array \n",
    "        plane[T,:,:] = pixels.getTile(z, c, T,roi[0:4]) # combine into 3D array\n",
    "    return plane #Read in data one plane at a time"
   ]
  },
  {
   "cell_type": "markdown",
   "metadata": {},
   "source": [
    "#### Calculate turbulence statistics"
   ]
  },
  {
   "cell_type": "code",
   "execution_count": 9,
   "metadata": {},
   "outputs": [],
   "source": [
    "def turb_stats(f, Fs):\n",
    "    \"\"\"\n",
    "    Get turblence statistics for each pixel\n",
    "    Input: f     numpy array of image\n",
    "           Fs    sample frequency\n",
    "    \"\"\"\n",
    "    L=np.shape(f)\n",
    "    # mean velocity over time for every pixel\n",
    "    ind_u_bar=np.mean(f, axis = 0); #mean over time\n",
    "    # Reynolds decomposition to calculate turbulent fluctuations\n",
    "    ind_u_fluct=np.subtract(f,ind_u_bar)\n",
    "    #Turblence Strength\n",
    "    ind_u_rms=np.std(ind_u_fluct, axis = 0) #standard deviation over time\n",
    "    # Frequency spectrum\n",
    "    ind_u_fft=fft.fft(ind_u_fluct, axis = 0) #fast fourier transform in time\n",
    "    P2=abs(ind_u_fft/L[0]) #2 sided spectrum\n",
    "    P1=P2[0:int(L[0]/2)]; #1 sided spectrum\n",
    "    P1[1:len(P1)-1]=2*P1[1:len(P1)-1];\n",
    "    fd=Fs*np.arange(0,int(L[0]/2),1)/L[0]; #Freqency domain\n",
    "    return ind_u_bar, ind_u_rms, P1, fd"
   ]
  },
  {
   "cell_type": "markdown",
   "metadata": {},
   "source": [
    "I have named the variables here as they would be called in a turbulence study (as this is want makes sense to me). To relate them to the current problem:\n",
    "- Mean velocity is mean intensity\n",
    "- Turbulent fluctuations are intensity flucuations\n",
    "- Turblence Strength is the standard deviation of the set of intensity fluctuations"
   ]
  },
  {
   "cell_type": "markdown",
   "metadata": {},
   "source": [
    "#### Calculate tubulence statistics for all images in a dataset"
   ]
  },
  {
   "cell_type": "code",
   "execution_count": 10,
   "metadata": {},
   "outputs": [],
   "source": [
    "def Fluc_ds(image, rois, Fs):\n",
    "    \"\"\"\n",
    "    Get mean turblence statistics for each image\n",
    "    Input: image     OMERO image object\n",
    "           rois      Regions of interest, list of the form (x, y, width, height, zStart, zStop, tStart, tStop)\n",
    "           Fs        Sampling frequency\n",
    "    \"\"\"\n",
    "    Iid = image.getId()\n",
    "    numTimeSteps=image.getSizeT()\n",
    "    f1 = get_z_stack(image, rois)\n",
    "    f = med_sub(f1)\n",
    "    ind_u_bar, ind_u_rms, P1, fd = turb_stats(f, Fs) #Assumes sample frequency same for all images\n",
    "    #Average in space         \n",
    "    u_bar=np.mean(ind_u_bar, axis=(0,1))\n",
    "    u_rms = np.mean(ind_u_rms, axis=(0,1))\n",
    "    P1_mean=np.mean(P1,axis=(1,2))\n",
    "    fd_all=fd\n",
    "    return Iid, u_bar, u_rms, P1_mean, fd_all"
   ]
  },
  {
   "cell_type": "markdown",
   "metadata": {},
   "source": [
    "#### Apply median filter and subtract"
   ]
  },
  {
   "cell_type": "code",
   "execution_count": 11,
   "metadata": {},
   "outputs": [],
   "source": [
    "def med_sub(image):\n",
    "    final=np.zeros(image.shape)\n",
    "    for z in range(image.shape[0]):\n",
    "        im_med = ndimage.median_filter(image[z,:,:], 2)\n",
    "        final[z,:,:]=np.subtract(image[z,:,:],im_med)\n",
    "    return final"
   ]
  },
  {
   "cell_type": "markdown",
   "metadata": {},
   "source": [
    "#### Write dictionary to file"
   ]
  },
  {
   "cell_type": "code",
   "execution_count": 79,
   "metadata": {},
   "outputs": [],
   "source": [
    "def dict2csv(dictionary, filename):\n",
    "    \"\"\"\n",
    "    write dictionary to csv file\n",
    "    Input: dictionary     A dictionary \n",
    "           filename       name of output file\n",
    "    \"\"\" \n",
    "    with open(filename, 'w') as f:\n",
    "        for key in dictionary:\n",
    "            q=str(dictionary[key].tolist())\n",
    "            f.write(\"%s,%s\\n\"%(key,q[1:-1]))"
   ]
  },
  {
   "cell_type": "markdown",
   "metadata": {},
   "source": [
    "#### Read dictionary from file"
   ]
  },
  {
   "cell_type": "code",
   "execution_count": 116,
   "metadata": {},
   "outputs": [],
   "source": [
    "def csv2dict(filename):\n",
    "    \"\"\"\n",
    "    write dictionary to csv file\n",
    "    Input: filename       name of input file\n",
    "    \"\"\"\n",
    "    with open(filename, mode='r') as infile:\n",
    "        reader = csv.reader(infile)\n",
    "        with open('coors_new.csv', mode='w') as outfile:\n",
    "            writer = csv.writer(outfile)\n",
    "            mydict = {int(rows[0]):np.array(rows[1:], dtype=np.float64) for rows in reader}\n",
    "    return mydict"
   ]
  },
  {
   "cell_type": "markdown",
   "metadata": {},
   "source": [
    "## Method\n",
    "### Connect to OMERO"
   ]
  },
  {
   "cell_type": "code",
   "execution_count": 14,
   "metadata": {},
   "outputs": [
    {
     "name": "stdout",
     "output_type": "stream",
     "text": [
      "Username: u1675160\n",
      "Password: ········\n"
     ]
    },
    {
     "data": {
      "text/plain": [
       "True"
      ]
     },
     "execution_count": 14,
     "metadata": {},
     "output_type": "execute_result"
    }
   ],
   "source": [
    "username = input('Username: ') #Request user to enter OMERO username\n",
    "password = getpass.getpass(prompt='Password: ') #Request user to enter OMERO password\n",
    "conn = BlitzGateway(username, password, host='camdu.warwick.ac.uk', port=4064) #Use details to connect to OMERO server\n",
    "conn.connect() #Returns true when connected"
   ]
  },
  {
   "cell_type": "markdown",
   "metadata": {},
   "source": [
    "### Get OMERO IDs\n",
    "Get the image we are interested in"
   ]
  },
  {
   "cell_type": "code",
   "execution_count": 15,
   "metadata": {},
   "outputs": [
    {
     "name": "stdout",
     "output_type": "stream",
     "text": [
      "200729 GFP-TPD54 Fast imaging 004.nd2\n"
     ]
    }
   ],
   "source": [
    "imageID=257295\n",
    "image = conn.getObject(\"Image\", imageID)\n",
    "print(image.getName())"
   ]
  },
  {
   "cell_type": "markdown",
   "metadata": {},
   "source": [
    "Put names and IDs in dictionary to make it easy to call required datasets."
   ]
  },
  {
   "cell_type": "code",
   "execution_count": 17,
   "metadata": {},
   "outputs": [],
   "source": [
    "#Get ROIs from image\n",
    "rois, image, roi_ids = getImageAndRectangles(conn, imageID)"
   ]
  },
  {
   "cell_type": "markdown",
   "metadata": {},
   "source": [
    "Set up dictionarys for results using the same names as the datasets. _Im here means these are the mean results for each roi"
   ]
  },
  {
   "cell_type": "code",
   "execution_count": 18,
   "metadata": {},
   "outputs": [],
   "source": [
    "ROIs=dict(zip(roi_ids[:], rois[:]))\n",
    "ImageIDs=dict.fromkeys(roi_ids[:])\n",
    "Mean_Vel_Im=dict.fromkeys(roi_ids[:])\n",
    "TurbStreng_Im=dict.fromkeys(roi_ids[:])\n",
    "Amp_Im=dict.fromkeys(roi_ids[:])\n",
    "Freq_Im=dict.fromkeys(roi_ids[:])"
   ]
  },
  {
   "cell_type": "markdown",
   "metadata": {},
   "source": [
    "Calculate the turbulence statistics for each image"
   ]
  },
  {
   "cell_type": "code",
   "execution_count": 19,
   "metadata": {},
   "outputs": [
    {
     "name": "stdout",
     "output_type": "stream",
     "text": [
      "4051\n",
      "4052\n",
      "4053\n",
      "4054\n",
      "4055\n",
      "4056\n",
      "4057\n",
      "4058\n",
      "4059\n",
      "4060\n",
      "4061\n",
      "4062\n",
      "4063\n",
      "4064\n",
      "4065\n"
     ]
    }
   ],
   "source": [
    "for roi in ROIs:\n",
    "    print(roi)\n",
    "    ImageIDs[roi], Mean_Vel_Im[roi], TurbStreng_Im[roi], Amp_Im[roi], Freq_Im[roi] = Fluc_ds(image, ROIs[roi], 80)"
   ]
  },
  {
   "cell_type": "markdown",
   "metadata": {},
   "source": [
    "Close connection to OMERO"
   ]
  },
  {
   "cell_type": "code",
   "execution_count": 20,
   "metadata": {},
   "outputs": [
    {
     "name": "stderr",
     "output_type": "stream",
     "text": [
      "WARNING:omero.client:Cannot get session service for killSession. Using closeSession\n"
     ]
    }
   ],
   "source": [
    "conn.close()"
   ]
  },
  {
   "cell_type": "markdown",
   "metadata": {},
   "source": [
    "Write results to file"
   ]
  },
  {
   "cell_type": "code",
   "execution_count": 81,
   "metadata": {},
   "outputs": [],
   "source": [
    "dict2csv(Mean_Vel_Im,'Mean_Vel.csv')\n",
    "dict2csv(TurbStreng_Im,'TurbStreng.csv')\n",
    "dict2csv(Amp_Im,'Amp.csv')\n",
    "dict2csv(Freq_Im,'Freq.csv')"
   ]
  },
  {
   "cell_type": "markdown",
   "metadata": {},
   "source": [
    "## Results"
   ]
  },
  {
   "cell_type": "code",
   "execution_count": 126,
   "metadata": {},
   "outputs": [],
   "source": [
    "## Uncomment to read results from files\n",
    "#Mean_Vel_Im=csv2dict('Mean_Vel.csv')\n",
    "#TurbStreng_Im=csv2dict('TurbStreng.csv')\n",
    "#Amp_Im=csv2dict('Amp.csv')\n",
    "#Freq_Im=csv2dict('Freq.csv')"
   ]
  },
  {
   "cell_type": "code",
   "execution_count": 180,
   "metadata": {},
   "outputs": [
    {
     "data": {
      "image/png": "[encoded data removed]",
      "text/plain": [
       "<Figure size 1440x504 with 1 Axes>"
      ]
     },
     "metadata": {
      "needs_background": "light"
     },
     "output_type": "display_data"
    }
   ],
   "source": [
    "fig, axs = plt.subplots(1,1,figsize=(20,7))\n",
    "axs.errorbar(Mean_Vel_Im.keys(), list(Mean_Vel_Im.values()), yerr=None, xerr=None,fmt='o', label=\"Mean for each ROI\")\n",
    "axs.errorbar(4058, np.mean(list(Mean_Vel_Im.values())), yerr=np.std(list(Mean_Vel_Im.values())),fmt='o', capsize=5, color='black', label=\"Mean of all ROIs +/- 1 standard deviation\")\n",
    "axs.set_ylabel('Mean Pixel Intensity',fontsize=20)\n",
    "axs.set_xlabel('ROI',fontsize=20)\n",
    "axs.legend()\n",
    "plt.show()"
   ]
  },
  {
   "cell_type": "markdown",
   "metadata": {},
   "source": [
    "I don't know if there was anything special about it, but you may want to look at ROI 4061 - it looks like a outlier"
   ]
  },
  {
   "cell_type": "code",
   "execution_count": null,
   "metadata": {},
   "outputs": [],
   "source": [
    "fig, ax = plt.subplots(figsize=(12,7))\n",
    "Mean_Vels=[]\n",
    "Mean_TS=[]\n",
    "for i,key in enumerate(all_results):\n",
    "    Mean_Vels.append(np.mean(all_results[key]['Mean_Vel']))\n",
    "    Mean_TS.append(np.mean(all_results[key]['TurbStreng']))\n",
    "ax.bar(np.arange(len(Mean_Vels)), Mean_Vels, yerr=Mean_TS, align='center', alpha=0.5, ecolor='black', capsize=10)\n",
    "ax.set_ylabel('Mean Pixel Intensity',fontsize=20)\n",
    "ax.set_xticks(np.arange(len(Mean_Vels)))\n",
    "ax.set_xticklabels(all_results.keys(), fontsize=12)\n",
    "ax.set_title('Mean Pixel Intensity of Each Dataset',fontsize=20)\n",
    "fig.tight_layout()\n",
    "plt.show()\n",
    "fig.savefig('MeanIntensity.png');"
   ]
  },
  {
   "cell_type": "code",
   "execution_count": 138,
   "metadata": {},
   "outputs": [
    {
     "data": {
      "text/plain": [
       "dict_values([-1.2712470703125, -1.2491028846153847, -1.4661033163265305, -1.2684766357421873, -1.3568822998046874, -1.4528406249999999, -1.383891688239645, -1.5658418367346938, -1.6931409438775509, -1.3230578369140624, -1.9239764030612245, -1.3733753906250001, -1.458382451923077, -1.6317315051020407, -1.5878966346153847])"
      ]
     },
     "execution_count": 138,
     "metadata": {},
     "output_type": "execute_result"
    }
   ],
   "source": [
    "Mean_Vel_Im.values()"
   ]
  },
  {
   "cell_type": "code",
   "execution_count": 220,
   "metadata": {},
   "outputs": [
    {
     "data": {
      "image/png": "[encoded data removed]",
      "text/plain": [
       "<Figure size 1440x720 with 15 Axes>"
      ]
     },
     "metadata": {
      "needs_background": "light"
     },
     "output_type": "display_data"
    }
   ],
   "source": [
    "fig, axs = plt.subplots(3,5,figsize=(20,10),sharey=True)\n",
    "fig.subplots_adjust(hspace = .3, wspace=.1)\n",
    "axs = axs.ravel()\n",
    "for i,key in enumerate(Amp_Im):\n",
    "    axs[i].plot(Freq_Im[key],Amp_Im[key])\n",
    "    axs[i].set_title(key)"
   ]
  },
  {
   "cell_type": "code",
   "execution_count": 209,
   "metadata": {},
   "outputs": [
    {
     "name": "stdout",
     "output_type": "stream",
     "text": [
      "Frequency of peak for ROI  4051 :  [0.0125]\n",
      "Frequency of peak for ROI  4052 :  [0.0125]\n",
      "Frequency of peak for ROI  4053 :  [0.0125]\n",
      "Frequency of peak for ROI  4054 :  [0.0125]\n",
      "Frequency of peak for ROI  4055 :  [0.0125]\n",
      "Frequency of peak for ROI  4056 :  [0.0125]\n",
      "Frequency of peak for ROI  4057 :  [0.0125]\n",
      "Frequency of peak for ROI  4058 :  [0.0125]\n",
      "Frequency of peak for ROI  4059 :  [0.0125]\n",
      "Frequency of peak for ROI  4060 :  [0.0125]\n",
      "Frequency of peak for ROI  4061 :  [0.0125]\n",
      "Frequency of peak for ROI  4062 :  [0.0125]\n",
      "Frequency of peak for ROI  4063 :  [0.0125]\n",
      "Frequency of peak for ROI  4064 :  [0.0125]\n",
      "Frequency of peak for ROI  4065 :  [0.0125]\n"
     ]
    }
   ],
   "source": [
    "for key in Amp_Im:\n",
    "    pos = np.where(Amp_Im[key]==max(Amp_Im[key]))\n",
    "    print('Frequency of peak for ROI ', str(key), ': ',Freq_Im[key][pos])"
   ]
  },
  {
   "cell_type": "markdown",
   "metadata": {},
   "source": [
    "The peak is at 0.0125 which is 1/80, so this is may related to the microscope set up, i.e. background noise"
   ]
  },
  {
   "cell_type": "code",
   "execution_count": null,
   "metadata": {},
   "outputs": [],
   "source": []
  }
 ],
 "metadata": {
  "kernelspec": {
   "display_name": "Python 3",
   "language": "python",
   "name": "python3"
  },
  "language_info": {
   "codemirror_mode": {
    "name": "ipython",
    "version": 3
   },
   "file_extension": ".py",
   "mimetype": "text/x-python",
   "name": "python",
   "nbconvert_exporter": "python",
   "pygments_lexer": "ipython3",
   "version": "3.6.10"
  }
 },
 "nbformat": 4,
 "nbformat_minor": 4
}
