{
 "cells": [
  {
   "cell_type": "markdown",
   "metadata": {},
   "source": [
    "# Fluctuating Intensities\n",
    "## Read file from OMERO and analyse fluctuations of pixel intensities\n",
    "Laura Cooper 19/05/2020"
   ]
  },
  {
   "cell_type": "markdown",
   "metadata": {},
   "source": [
    "# 1. Connect to OMERO"
   ]
  },
  {
   "cell_type": "code",
   "execution_count": null,
   "metadata": {},
   "outputs": [],
   "source": [
    "#Import packages\n",
    "from omero.gateway import BlitzGateway\n",
    "import getpass\n",
    "import numpy as np\n",
    "from scipy import fft, ndimage\n",
    "import matplotlib.pyplot as plt"
   ]
  },
  {
   "cell_type": "code",
   "execution_count": null,
   "metadata": {},
   "outputs": [],
   "source": [
    "username = input('Username: ') #Request user to enter OMERO username\n",
    "password = getpass.getpass(prompt='Password: ') #Request user to enter OMERO password\n",
    "conn = BlitzGateway(username, password, host='camdu.warwick.ac.uk', port=4064) #Use details to connect to OMERO server\n",
    "conn.connect() #Returns true when connected"
   ]
  },
  {
   "cell_type": "markdown",
   "metadata": {},
   "source": [
    "## Convert image stack to np.array"
   ]
  },
  {
   "cell_type": "markdown",
   "metadata": {},
   "source": [
    "Function to convert OMERO image to numpy array:"
   ]
  },
  {
   "cell_type": "code",
   "execution_count": null,
   "metadata": {},
   "outputs": [],
   "source": [
    "def get_z_stack(img, c=0, t=0):\n",
    "    \"\"\"\n",
    "    Convert OMERO image object to numpy array\n",
    "    \"\"\"\n",
    "    zct_list = [(z, c, t) for z in range(img.getSizeZ())]\n",
    "    pixels = image.getPrimaryPixels()\n",
    "    return np.array(list(pixels.getPlanes(zct_list)))"
   ]
  },
  {
   "cell_type": "markdown",
   "metadata": {},
   "source": [
    "## Get IDs for calling objects\n",
    "Here we print the IDs for groups, owners, datasets and images from OMERO. We need these to call the images we want to analyse.\n",
    "\n",
    "First the groups and owners:"
   ]
  },
  {
   "cell_type": "markdown",
   "metadata": {},
   "source": [
    "List the datasets and their images:"
   ]
  },
  {
   "cell_type": "code",
   "execution_count": null,
   "metadata": {},
   "outputs": [],
   "source": [
    "Datasets=[8202, 8204, 8205, 8206, 8207]"
   ]
  },
  {
   "cell_type": "code",
   "execution_count": null,
   "metadata": {},
   "outputs": [],
   "source": [
    "print(\"\\nList Datasets: \\n\", \"=\" * 50)\n",
    "datasets = conn.getObjects(\"Dataset\", opts={'owner': 3})\n",
    "for obj in datasets:\n",
    "    print(\"\"\"%s%s:%s  Name:\"%s\" (owner=%s)\"\"\" % (\n",
    "        \" \" * 2,\n",
    "        obj.OMERO_CLASS,\n",
    "        obj.getId(),\n",
    "        obj.getName(),\n",
    "        obj.getOwnerOmeName()\n",
    "    ))\n",
    "    #for img in dataset.listChildren():\n",
    "    #    print(\"\"\"%s%s:%s  Name:\"%s\" (owner=%s)\"\"\" % (\n",
    "    #        \" \" * 2,\n",
    "    #        img.OMERO_CLASS,\n",
    "    #        img.getId(),\n",
    "    #        img.getName(),\n",
    "    #        img.getOwnerOmeName()\n",
    "    #    ))\n",
    "    test = dataset.listChildren()"
   ]
  },
  {
   "cell_type": "code",
   "execution_count": null,
   "metadata": {},
   "outputs": [],
   "source": [
    "print(test)"
   ]
  },
  {
   "cell_type": "code",
   "execution_count": null,
   "metadata": {},
   "outputs": [],
   "source": [
    "Fs=5.6; #Sample freqency\n",
    "L=30 # Length of signal \n",
    "fd=Fs*np.arange(0,L/2,1)/L; #Freqency fomain\\n\",\n",
    "u_bar = np.zeros([1,16])\n",
    "u_rms = np.zeros([1,16])\n",
    "P1_mean = np.zeros([15,16])\n",
    "i=0;\n",
    "for image in conn.getObjects('Image', opts={'dataset': 8204}):\n",
    "    f = get_z_stack(image)\n",
    "    # mean velocity over time for every pixel\n",
    "    ind_u_bar=np.mean(f, axis = 0);\n",
    "    u_bar[0,i]=np.mean(ind_u_bar, axis=(0,1))\n",
    "    #print('The mean velocity over both time and space is:',np.mean(ind_u_bar, axis=(0,1)))\n",
    "    # Reynolds decomposition to calculate turbulent fluctuations\n",
    "    ind_u_fluct=np.subtract(f,ind_u_bar)\n",
    "    ##Turblence Strength\n",
    "    ind_u_rms=np.std(ind_u_fluct, axis = 0)\n",
    "    u_rms[:,i] = np.mean(ind_u_rms, axis=(0,1))\n",
    "    ##print('The mean turblence strength (in space) is:',np.mean(u_rms, axis=(0,1)))\n",
    "    ind_u_fft=fft.fft(ind_u_fluct, axis = 0)\n",
    "    P2=abs(ind_u_fft/L) #2 sided spectrum\\n\",\n",
    "    P1=P2[0:int(L/2)]; #1 sided spectrum\\n\",\n",
    "    P1[1:len(P1)-1]=2*P1[1:len(P1)-1];\n",
    "    P1_mean[:,i]=np.mean(P1,axis=(1,2))\n",
    "    i=i+1\n",
    "    #fig, ax1 = plt.subplots()\n",
    "    #plt.plot(fd,P1_mean) # comment out to plot on log scale\n",
    "    #plt.plot(fd[1:],P1_mean[1:]) # uncomment to plot on log scale\n",
    "    #plt.ylabel('Amplitude')\n",
    "    #plt.xlabel('Frequency')\n",
    "    #plt.yscale('log') # uncomment to plot on log scale\n",
    "    #plt.show;"
   ]
  },
  {
   "cell_type": "markdown",
   "metadata": {},
   "source": [
    "Every Image"
   ]
  },
  {
   "cell_type": "code",
   "execution_count": null,
   "metadata": {},
   "outputs": [],
   "source": [
    "print(\"u_bar:\",u_bar)\n",
    "print(\"u_rms:\",u_rms)\n",
    "plt.plot(fd,P1_mean) # comment out to plot on log scale\n",
    "#plt.plot(fd[1:],P1_mean[1:]) # uncomment to plot on log scale\n",
    "plt.ylabel('Amplitude')\n",
    "plt.xlabel('Frequency')\n",
    "#plt.yscale('log') # uncomment to plot on log scale\n",
    "plt.show;"
   ]
  },
  {
   "cell_type": "markdown",
   "metadata": {},
   "source": [
    "All images for one dataset"
   ]
  },
  {
   "cell_type": "code",
   "execution_count": null,
   "metadata": {},
   "outputs": [],
   "source": [
    "print(\"u_bar:\",np.mean(u_bar))\n",
    "print(\"u_rms:\",np.mean(u_rms))\n",
    "#print(\"P1_mean:\",P1_mean)\n",
    "\n",
    "plt.plot(fd,np.mean(P1_mean, axis=1)) # comment out to plot on log scale\n",
    "#plt.plot(fd[1:],P1_mean[1:]) # uncomment to plot on log scale\n",
    "plt.ylabel('Amplitude')\n",
    "plt.xlabel('Frequency')\n",
    "#plt.yscale('log') # uncomment to plot on log scale\n",
    "plt.show;"
   ]
  }
 ],
 "metadata": {
  "kernelspec": {
   "display_name": "Python 3",
   "language": "python",
   "name": "python3"
  },
  "language_info": {
   "codemirror_mode": {
    "name": "ipython",
    "version": 3
   },
   "file_extension": ".py",
   "mimetype": "text/x-python",
   "name": "python",
   "nbconvert_exporter": "python",
   "pygments_lexer": "ipython3",
   "version": "3.6.10"
  }
 },
 "nbformat": 4,
 "nbformat_minor": 4
}
